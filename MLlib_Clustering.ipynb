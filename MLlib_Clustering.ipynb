{
  "nbformat": 4,
  "nbformat_minor": 0,
  "metadata": {
    "colab": {
      "provenance": []
    },
    "kernelspec": {
      "name": "python3",
      "display_name": "Python 3"
    },
    "language_info": {
      "name": "python"
    }
  },
  "cells": [
    {
      "cell_type": "code",
      "execution_count": 1,
      "metadata": {
        "id": "uyX8OQJOd590"
      },
      "outputs": [],
      "source": [
        "import pandas as pd"
      ]
    },
    {
      "cell_type": "code",
      "source": [
        "df= pd.read_csv(\"Mall_Customers.csv\")"
      ],
      "metadata": {
        "id": "PHNihJnGfWyw"
      },
      "execution_count": 2,
      "outputs": []
    },
    {
      "cell_type": "code",
      "source": [
        "df.head()"
      ],
      "metadata": {
        "colab": {
          "base_uri": "https://localhost:8080/",
          "height": 206
        },
        "id": "OaXBqxegfbGb",
        "outputId": "2786c419-fdf3-4965-ac8f-15672c404e8f"
      },
      "execution_count": 3,
      "outputs": [
        {
          "output_type": "execute_result",
          "data": {
            "text/plain": [
              "   CustomerID  Gender  Age  Annual Income (k$)  Spending Score (1-100)\n",
              "0           1    Male   19                  15                      39\n",
              "1           2    Male   21                  15                      81\n",
              "2           3  Female   20                  16                       6\n",
              "3           4  Female   23                  16                      77\n",
              "4           5  Female   31                  17                      40"
            ],
            "text/html": [
              "\n",
              "  <div id=\"df-d2354ba5-6294-4bc3-9e6d-468280cbe4f7\" class=\"colab-df-container\">\n",
              "    <div>\n",
              "<style scoped>\n",
              "    .dataframe tbody tr th:only-of-type {\n",
              "        vertical-align: middle;\n",
              "    }\n",
              "\n",
              "    .dataframe tbody tr th {\n",
              "        vertical-align: top;\n",
              "    }\n",
              "\n",
              "    .dataframe thead th {\n",
              "        text-align: right;\n",
              "    }\n",
              "</style>\n",
              "<table border=\"1\" class=\"dataframe\">\n",
              "  <thead>\n",
              "    <tr style=\"text-align: right;\">\n",
              "      <th></th>\n",
              "      <th>CustomerID</th>\n",
              "      <th>Gender</th>\n",
              "      <th>Age</th>\n",
              "      <th>Annual Income (k$)</th>\n",
              "      <th>Spending Score (1-100)</th>\n",
              "    </tr>\n",
              "  </thead>\n",
              "  <tbody>\n",
              "    <tr>\n",
              "      <th>0</th>\n",
              "      <td>1</td>\n",
              "      <td>Male</td>\n",
              "      <td>19</td>\n",
              "      <td>15</td>\n",
              "      <td>39</td>\n",
              "    </tr>\n",
              "    <tr>\n",
              "      <th>1</th>\n",
              "      <td>2</td>\n",
              "      <td>Male</td>\n",
              "      <td>21</td>\n",
              "      <td>15</td>\n",
              "      <td>81</td>\n",
              "    </tr>\n",
              "    <tr>\n",
              "      <th>2</th>\n",
              "      <td>3</td>\n",
              "      <td>Female</td>\n",
              "      <td>20</td>\n",
              "      <td>16</td>\n",
              "      <td>6</td>\n",
              "    </tr>\n",
              "    <tr>\n",
              "      <th>3</th>\n",
              "      <td>4</td>\n",
              "      <td>Female</td>\n",
              "      <td>23</td>\n",
              "      <td>16</td>\n",
              "      <td>77</td>\n",
              "    </tr>\n",
              "    <tr>\n",
              "      <th>4</th>\n",
              "      <td>5</td>\n",
              "      <td>Female</td>\n",
              "      <td>31</td>\n",
              "      <td>17</td>\n",
              "      <td>40</td>\n",
              "    </tr>\n",
              "  </tbody>\n",
              "</table>\n",
              "</div>\n",
              "    <div class=\"colab-df-buttons\">\n",
              "\n",
              "  <div class=\"colab-df-container\">\n",
              "    <button class=\"colab-df-convert\" onclick=\"convertToInteractive('df-d2354ba5-6294-4bc3-9e6d-468280cbe4f7')\"\n",
              "            title=\"Convert this dataframe to an interactive table.\"\n",
              "            style=\"display:none;\">\n",
              "\n",
              "  <svg xmlns=\"http://www.w3.org/2000/svg\" height=\"24px\" viewBox=\"0 -960 960 960\">\n",
              "    <path d=\"M120-120v-720h720v720H120Zm60-500h600v-160H180v160Zm220 220h160v-160H400v160Zm0 220h160v-160H400v160ZM180-400h160v-160H180v160Zm440 0h160v-160H620v160ZM180-180h160v-160H180v160Zm440 0h160v-160H620v160Z\"/>\n",
              "  </svg>\n",
              "    </button>\n",
              "\n",
              "  <style>\n",
              "    .colab-df-container {\n",
              "      display:flex;\n",
              "      gap: 12px;\n",
              "    }\n",
              "\n",
              "    .colab-df-convert {\n",
              "      background-color: #E8F0FE;\n",
              "      border: none;\n",
              "      border-radius: 50%;\n",
              "      cursor: pointer;\n",
              "      display: none;\n",
              "      fill: #1967D2;\n",
              "      height: 32px;\n",
              "      padding: 0 0 0 0;\n",
              "      width: 32px;\n",
              "    }\n",
              "\n",
              "    .colab-df-convert:hover {\n",
              "      background-color: #E2EBFA;\n",
              "      box-shadow: 0px 1px 2px rgba(60, 64, 67, 0.3), 0px 1px 3px 1px rgba(60, 64, 67, 0.15);\n",
              "      fill: #174EA6;\n",
              "    }\n",
              "\n",
              "    .colab-df-buttons div {\n",
              "      margin-bottom: 4px;\n",
              "    }\n",
              "\n",
              "    [theme=dark] .colab-df-convert {\n",
              "      background-color: #3B4455;\n",
              "      fill: #D2E3FC;\n",
              "    }\n",
              "\n",
              "    [theme=dark] .colab-df-convert:hover {\n",
              "      background-color: #434B5C;\n",
              "      box-shadow: 0px 1px 3px 1px rgba(0, 0, 0, 0.15);\n",
              "      filter: drop-shadow(0px 1px 2px rgba(0, 0, 0, 0.3));\n",
              "      fill: #FFFFFF;\n",
              "    }\n",
              "  </style>\n",
              "\n",
              "    <script>\n",
              "      const buttonEl =\n",
              "        document.querySelector('#df-d2354ba5-6294-4bc3-9e6d-468280cbe4f7 button.colab-df-convert');\n",
              "      buttonEl.style.display =\n",
              "        google.colab.kernel.accessAllowed ? 'block' : 'none';\n",
              "\n",
              "      async function convertToInteractive(key) {\n",
              "        const element = document.querySelector('#df-d2354ba5-6294-4bc3-9e6d-468280cbe4f7');\n",
              "        const dataTable =\n",
              "          await google.colab.kernel.invokeFunction('convertToInteractive',\n",
              "                                                    [key], {});\n",
              "        if (!dataTable) return;\n",
              "\n",
              "        const docLinkHtml = 'Like what you see? Visit the ' +\n",
              "          '<a target=\"_blank\" href=https://colab.research.google.com/notebooks/data_table.ipynb>data table notebook</a>'\n",
              "          + ' to learn more about interactive tables.';\n",
              "        element.innerHTML = '';\n",
              "        dataTable['output_type'] = 'display_data';\n",
              "        await google.colab.output.renderOutput(dataTable, element);\n",
              "        const docLink = document.createElement('div');\n",
              "        docLink.innerHTML = docLinkHtml;\n",
              "        element.appendChild(docLink);\n",
              "      }\n",
              "    </script>\n",
              "  </div>\n",
              "\n",
              "\n",
              "<div id=\"df-b788bb3c-2d8d-4b4d-a802-b4823690a700\">\n",
              "  <button class=\"colab-df-quickchart\" onclick=\"quickchart('df-b788bb3c-2d8d-4b4d-a802-b4823690a700')\"\n",
              "            title=\"Suggest charts\"\n",
              "            style=\"display:none;\">\n",
              "\n",
              "<svg xmlns=\"http://www.w3.org/2000/svg\" height=\"24px\"viewBox=\"0 0 24 24\"\n",
              "     width=\"24px\">\n",
              "    <g>\n",
              "        <path d=\"M19 3H5c-1.1 0-2 .9-2 2v14c0 1.1.9 2 2 2h14c1.1 0 2-.9 2-2V5c0-1.1-.9-2-2-2zM9 17H7v-7h2v7zm4 0h-2V7h2v10zm4 0h-2v-4h2v4z\"/>\n",
              "    </g>\n",
              "</svg>\n",
              "  </button>\n",
              "\n",
              "<style>\n",
              "  .colab-df-quickchart {\n",
              "      --bg-color: #E8F0FE;\n",
              "      --fill-color: #1967D2;\n",
              "      --hover-bg-color: #E2EBFA;\n",
              "      --hover-fill-color: #174EA6;\n",
              "      --disabled-fill-color: #AAA;\n",
              "      --disabled-bg-color: #DDD;\n",
              "  }\n",
              "\n",
              "  [theme=dark] .colab-df-quickchart {\n",
              "      --bg-color: #3B4455;\n",
              "      --fill-color: #D2E3FC;\n",
              "      --hover-bg-color: #434B5C;\n",
              "      --hover-fill-color: #FFFFFF;\n",
              "      --disabled-bg-color: #3B4455;\n",
              "      --disabled-fill-color: #666;\n",
              "  }\n",
              "\n",
              "  .colab-df-quickchart {\n",
              "    background-color: var(--bg-color);\n",
              "    border: none;\n",
              "    border-radius: 50%;\n",
              "    cursor: pointer;\n",
              "    display: none;\n",
              "    fill: var(--fill-color);\n",
              "    height: 32px;\n",
              "    padding: 0;\n",
              "    width: 32px;\n",
              "  }\n",
              "\n",
              "  .colab-df-quickchart:hover {\n",
              "    background-color: var(--hover-bg-color);\n",
              "    box-shadow: 0 1px 2px rgba(60, 64, 67, 0.3), 0 1px 3px 1px rgba(60, 64, 67, 0.15);\n",
              "    fill: var(--button-hover-fill-color);\n",
              "  }\n",
              "\n",
              "  .colab-df-quickchart-complete:disabled,\n",
              "  .colab-df-quickchart-complete:disabled:hover {\n",
              "    background-color: var(--disabled-bg-color);\n",
              "    fill: var(--disabled-fill-color);\n",
              "    box-shadow: none;\n",
              "  }\n",
              "\n",
              "  .colab-df-spinner {\n",
              "    border: 2px solid var(--fill-color);\n",
              "    border-color: transparent;\n",
              "    border-bottom-color: var(--fill-color);\n",
              "    animation:\n",
              "      spin 1s steps(1) infinite;\n",
              "  }\n",
              "\n",
              "  @keyframes spin {\n",
              "    0% {\n",
              "      border-color: transparent;\n",
              "      border-bottom-color: var(--fill-color);\n",
              "      border-left-color: var(--fill-color);\n",
              "    }\n",
              "    20% {\n",
              "      border-color: transparent;\n",
              "      border-left-color: var(--fill-color);\n",
              "      border-top-color: var(--fill-color);\n",
              "    }\n",
              "    30% {\n",
              "      border-color: transparent;\n",
              "      border-left-color: var(--fill-color);\n",
              "      border-top-color: var(--fill-color);\n",
              "      border-right-color: var(--fill-color);\n",
              "    }\n",
              "    40% {\n",
              "      border-color: transparent;\n",
              "      border-right-color: var(--fill-color);\n",
              "      border-top-color: var(--fill-color);\n",
              "    }\n",
              "    60% {\n",
              "      border-color: transparent;\n",
              "      border-right-color: var(--fill-color);\n",
              "    }\n",
              "    80% {\n",
              "      border-color: transparent;\n",
              "      border-right-color: var(--fill-color);\n",
              "      border-bottom-color: var(--fill-color);\n",
              "    }\n",
              "    90% {\n",
              "      border-color: transparent;\n",
              "      border-bottom-color: var(--fill-color);\n",
              "    }\n",
              "  }\n",
              "</style>\n",
              "\n",
              "  <script>\n",
              "    async function quickchart(key) {\n",
              "      const quickchartButtonEl =\n",
              "        document.querySelector('#' + key + ' button');\n",
              "      quickchartButtonEl.disabled = true;  // To prevent multiple clicks.\n",
              "      quickchartButtonEl.classList.add('colab-df-spinner');\n",
              "      try {\n",
              "        const charts = await google.colab.kernel.invokeFunction(\n",
              "            'suggestCharts', [key], {});\n",
              "      } catch (error) {\n",
              "        console.error('Error during call to suggestCharts:', error);\n",
              "      }\n",
              "      quickchartButtonEl.classList.remove('colab-df-spinner');\n",
              "      quickchartButtonEl.classList.add('colab-df-quickchart-complete');\n",
              "    }\n",
              "    (() => {\n",
              "      let quickchartButtonEl =\n",
              "        document.querySelector('#df-b788bb3c-2d8d-4b4d-a802-b4823690a700 button');\n",
              "      quickchartButtonEl.style.display =\n",
              "        google.colab.kernel.accessAllowed ? 'block' : 'none';\n",
              "    })();\n",
              "  </script>\n",
              "</div>\n",
              "\n",
              "    </div>\n",
              "  </div>\n"
            ],
            "application/vnd.google.colaboratory.intrinsic+json": {
              "type": "dataframe",
              "variable_name": "df",
              "summary": "{\n  \"name\": \"df\",\n  \"rows\": 200,\n  \"fields\": [\n    {\n      \"column\": \"CustomerID\",\n      \"properties\": {\n        \"dtype\": \"number\",\n        \"std\": 57,\n        \"min\": 1,\n        \"max\": 200,\n        \"num_unique_values\": 200,\n        \"samples\": [\n          96,\n          16,\n          31\n        ],\n        \"semantic_type\": \"\",\n        \"description\": \"\"\n      }\n    },\n    {\n      \"column\": \"Gender\",\n      \"properties\": {\n        \"dtype\": \"category\",\n        \"num_unique_values\": 2,\n        \"samples\": [\n          \"Female\",\n          \"Male\"\n        ],\n        \"semantic_type\": \"\",\n        \"description\": \"\"\n      }\n    },\n    {\n      \"column\": \"Age\",\n      \"properties\": {\n        \"dtype\": \"number\",\n        \"std\": 13,\n        \"min\": 18,\n        \"max\": 70,\n        \"num_unique_values\": 51,\n        \"samples\": [\n          55,\n          26\n        ],\n        \"semantic_type\": \"\",\n        \"description\": \"\"\n      }\n    },\n    {\n      \"column\": \"Annual Income (k$)\",\n      \"properties\": {\n        \"dtype\": \"number\",\n        \"std\": 26,\n        \"min\": 15,\n        \"max\": 137,\n        \"num_unique_values\": 64,\n        \"samples\": [\n          87,\n          101\n        ],\n        \"semantic_type\": \"\",\n        \"description\": \"\"\n      }\n    },\n    {\n      \"column\": \"Spending Score (1-100)\",\n      \"properties\": {\n        \"dtype\": \"number\",\n        \"std\": 25,\n        \"min\": 1,\n        \"max\": 99,\n        \"num_unique_values\": 84,\n        \"samples\": [\n          83,\n          39\n        ],\n        \"semantic_type\": \"\",\n        \"description\": \"\"\n      }\n    }\n  ]\n}"
            }
          },
          "metadata": {},
          "execution_count": 3
        }
      ]
    },
    {
      "cell_type": "code",
      "source": [
        "df.columns"
      ],
      "metadata": {
        "colab": {
          "base_uri": "https://localhost:8080/"
        },
        "id": "VnAPCuPPgPj0",
        "outputId": "0a10cf59-6bbf-429e-c7e9-fafbadbe0b4f"
      },
      "execution_count": 9,
      "outputs": [
        {
          "output_type": "execute_result",
          "data": {
            "text/plain": [
              "Index(['CustomerID', 'Gender', 'Age', 'Annual Income (k$)',\n",
              "       'Spending Score (1-100)'],\n",
              "      dtype='object')"
            ]
          },
          "metadata": {},
          "execution_count": 9
        }
      ]
    },
    {
      "cell_type": "markdown",
      "source": [
        "# **Spark Session**"
      ],
      "metadata": {
        "id": "kEZWM4ADlCRa"
      }
    },
    {
      "cell_type": "code",
      "source": [
        "!pip install pyspark"
      ],
      "metadata": {
        "colab": {
          "base_uri": "https://localhost:8080/"
        },
        "id": "TkkaSuaufiTM",
        "outputId": "98cb3e1a-ce9b-436f-f60c-6a18a50c17f8"
      },
      "execution_count": 5,
      "outputs": [
        {
          "output_type": "stream",
          "name": "stdout",
          "text": [
            "Collecting pyspark\n",
            "  Downloading pyspark-3.5.1.tar.gz (317.0 MB)\n",
            "\u001b[2K     \u001b[90m━━━━━━━━━━━━━━━━━━━━━━━━━━━━━━━━━━━━━━━━\u001b[0m \u001b[32m317.0/317.0 MB\u001b[0m \u001b[31m1.9 MB/s\u001b[0m eta \u001b[36m0:00:00\u001b[0m\n",
            "\u001b[?25h  Preparing metadata (setup.py) ... \u001b[?25l\u001b[?25hdone\n",
            "Requirement already satisfied: py4j==0.10.9.7 in /usr/local/lib/python3.10/dist-packages (from pyspark) (0.10.9.7)\n",
            "Building wheels for collected packages: pyspark\n",
            "  Building wheel for pyspark (setup.py) ... \u001b[?25l\u001b[?25hdone\n",
            "  Created wheel for pyspark: filename=pyspark-3.5.1-py2.py3-none-any.whl size=317488491 sha256=7e3b8337ffeff6ddb74667789a17fd6a7aa5f5a1e2056493c88a932321d3426a\n",
            "  Stored in directory: /root/.cache/pip/wheels/80/1d/60/2c256ed38dddce2fdd93be545214a63e02fbd8d74fb0b7f3a6\n",
            "Successfully built pyspark\n",
            "Installing collected packages: pyspark\n",
            "Successfully installed pyspark-3.5.1\n"
          ]
        }
      ]
    },
    {
      "cell_type": "code",
      "source": [
        "from pyspark.sql import SparkSession\n",
        "from pyspark.ml.clustering import KMeans\n",
        "from pyspark.ml.evaluation import ClusteringEvaluator\n",
        "from pyspark.ml.feature import VectorAssembler, StringIndexer, PCA"
      ],
      "metadata": {
        "id": "st2fR6TgfcN3"
      },
      "execution_count": 18,
      "outputs": []
    },
    {
      "cell_type": "code",
      "source": [
        "# Initialize Spark session\n",
        "spark = SparkSession.builder.appName(\"KMeansClusteringExample\").getOrCreate()"
      ],
      "metadata": {
        "id": "J8H1aHWzfhJ4"
      },
      "execution_count": 7,
      "outputs": []
    },
    {
      "cell_type": "code",
      "source": [
        "data_path = \"Mall_Customers.csv\"\n",
        "data = spark.read.csv(data_path, header=True, inferSchema=True)"
      ],
      "metadata": {
        "id": "m5DLqrXvfyL1"
      },
      "execution_count": 8,
      "outputs": []
    },
    {
      "cell_type": "code",
      "source": [
        "# Data preprocessing\n",
        "# Convert categorical data to numeric\n",
        "indexer = StringIndexer(inputCol=\"Gender\", outputCol=\"GenderIndexed\")\n",
        "data = indexer.fit(data).transform(data)"
      ],
      "metadata": {
        "id": "FsKu3mXdf6Ed"
      },
      "execution_count": 12,
      "outputs": []
    },
    {
      "cell_type": "code",
      "source": [
        "# Assemble features into a single feature vector\n",
        "assembler = VectorAssembler(\n",
        "    inputCols=[\"Age\", \"Annual Income (k$)\", \"Spending Score (1-100)\", \"GenderIndexed\"],\n",
        "    outputCol=\"features\")\n",
        "data = assembler.transform(data)"
      ],
      "metadata": {
        "id": "aIDLhpbfgbD8"
      },
      "execution_count": 13,
      "outputs": []
    },
    {
      "cell_type": "code",
      "source": [
        "# Train the K-means model\n",
        "kmeans = KMeans().setK(5).setSeed(1)\n",
        "model = kmeans.fit(data)"
      ],
      "metadata": {
        "id": "0_Gs0uXTg6QU"
      },
      "execution_count": 14,
      "outputs": []
    },
    {
      "cell_type": "code",
      "source": [
        "# Make predictions\n",
        "predictions = model.transform(data)"
      ],
      "metadata": {
        "id": "OG7zZjmvhWIY"
      },
      "execution_count": 15,
      "outputs": []
    },
    {
      "cell_type": "code",
      "source": [
        "# Evaluate clustering\n",
        "evaluator = ClusteringEvaluator()\n",
        "silhouette = evaluator.evaluate(predictions)\n",
        "print(f\"Silhouette with squared euclidean distance = {silhouette}\")"
      ],
      "metadata": {
        "colab": {
          "base_uri": "https://localhost:8080/"
        },
        "id": "fOsschbehY3j",
        "outputId": "82df86ba-279a-4bae-fd4b-a6e8f2c40e49"
      },
      "execution_count": 16,
      "outputs": [
        {
          "output_type": "stream",
          "name": "stdout",
          "text": [
            "Silhouette with squared euclidean distance = 0.6276007113904088\n"
          ]
        }
      ]
    },
    {
      "cell_type": "code",
      "source": [
        "# Show cluster centers\n",
        "centers = model.clusterCenters()\n",
        "print(\"Cluster Centers: \")\n",
        "for center in centers:\n",
        "    print(center)"
      ],
      "metadata": {
        "colab": {
          "base_uri": "https://localhost:8080/"
        },
        "id": "wtkINJEQhcs2",
        "outputId": "b6d017aa-f851-4799-901b-74ad63f92a8b"
      },
      "execution_count": 17,
      "outputs": [
        {
          "output_type": "stream",
          "name": "stdout",
          "text": [
            "Cluster Centers: \n",
            "[24.96 28.04 77.    0.44]\n",
            "[45.2173913  26.30434783 20.91304348  0.39130435]\n",
            "[40.32432432 87.43243243 18.18918919  0.51351351]\n",
            "[32.69230769 86.53846154 82.12820513  0.46153846]\n",
            "[43.93421053 55.21052632 49.44736842  0.40789474]\n"
          ]
        }
      ]
    },
    {
      "cell_type": "code",
      "source": [
        "pca = PCA(k=2, inputCol=\"features\", outputCol=\"pcaFeatures\")\n",
        "pcaModel = pca.fit(predictions)\n",
        "pcaResult = pcaModel.transform(predictions)"
      ],
      "metadata": {
        "id": "ZSG62aYihgua"
      },
      "execution_count": 19,
      "outputs": []
    },
    {
      "cell_type": "code",
      "source": [
        "# Extracting components for plotting\n",
        "result_df = pcaResult.select(\"pcaFeatures\", \"prediction\").toPandas()\n",
        "result_df['x'] = result_df['pcaFeatures'].apply(lambda x: x[0])\n",
        "result_df['y'] = result_df['pcaFeatures'].apply(lambda x: x[1])"
      ],
      "metadata": {
        "id": "pCjqK5HciRpp"
      },
      "execution_count": 20,
      "outputs": []
    },
    {
      "cell_type": "markdown",
      "source": [
        "# **Visuals of clusters**"
      ],
      "metadata": {
        "id": "iFwtGyB-lGOU"
      }
    },
    {
      "cell_type": "code",
      "source": [
        "# Plotting\n",
        "import matplotlib.pyplot as plt\n",
        "plt.figure(figsize=(10, 7))\n",
        "scatter = plt.scatter(result_df['x'], result_df['y'], c=result_df['prediction'], cmap='viridis', s=50)\n",
        "plt.title('Customer Segments')\n",
        "plt.xlabel('Principal Component 1')\n",
        "plt.ylabel('Principal Component 2')\n",
        "plt.colorbar(scatter, label='Cluster')\n",
        "plt.grid(True)\n",
        "plt.show()"
      ],
      "metadata": {
        "colab": {
          "base_uri": "https://localhost:8080/",
          "height": 641
        },
        "id": "sYgWtF-4iXkW",
        "outputId": "f7434809-a655-4990-9f95-32a8bcb9e9c7"
      },
      "execution_count": 22,
      "outputs": [
        {
          "output_type": "display_data",
          "data": {
            "text/plain": [
              "<Figure size 1000x700 with 2 Axes>"
            ],
            "image/png": "[encoded data removed]"
          },
          "metadata": {}
        }
      ]
    },
    {
      "cell_type": "code",
      "source": [
        "# Selecting the original data with the cluster assignments\n",
        "clustered_data = predictions.select('CustomerID', 'Gender', 'Age', 'Annual Income (k$)', 'Spending Score (1-100)', 'prediction')\n"
      ],
      "metadata": {
        "id": "-ksjD9weiamG"
      },
      "execution_count": 23,
      "outputs": []
    },
    {
      "cell_type": "code",
      "source": [
        "# Group data by clusters and display\n",
        "grouped_data = clustered_data.groupby('prediction').agg({'Age': 'mean', 'Annual Income (k$)': 'mean', 'Spending Score (1-100)': 'mean'}).sort('prediction')\n",
        "print(grouped_data.show())"
      ],
      "metadata": {
        "colab": {
          "base_uri": "https://localhost:8080/"
        },
        "id": "SyXvhPvRi5zt",
        "outputId": "de93c6fc-b5b1-4244-b0af-d85da0d6c728"
      },
      "execution_count": 24,
      "outputs": [
        {
          "output_type": "stream",
          "name": "stdout",
          "text": [
            "+----------+---------------------------+-----------------------+-----------------+\n",
            "|prediction|avg(Spending Score (1-100))|avg(Annual Income (k$))|         avg(Age)|\n",
            "+----------+---------------------------+-----------------------+-----------------+\n",
            "|         0|                       77.0|                  28.04|            24.96|\n",
            "|         1|          20.91304347826087|     26.304347826086957|45.21739130434783|\n",
            "|         2|          18.18918918918919|      87.43243243243244|40.32432432432432|\n",
            "|         3|          82.12820512820512|      86.53846153846153|32.69230769230769|\n",
            "|         4|          49.44736842105263|      55.21052631578947|43.93421052631579|\n",
            "+----------+---------------------------+-----------------------+-----------------+\n",
            "\n",
            "None\n"
          ]
        }
      ]
    },
    {
      "cell_type": "markdown",
      "source": [
        "# **Cluster-wise Data**"
      ],
      "metadata": {
        "id": "wYRGBpmFlJCr"
      }
    },
    {
      "cell_type": "code",
      "source": [
        "# Display details for each cluster\n",
        "for i in range(5):\n",
        "    print(f\"\\nCluster {i} details:\")\n",
        "    cluster_data = predictions.filter(predictions['prediction'] == i).select(\n",
        "        'CustomerID', 'Gender', 'Age', 'Annual Income (k$)', 'Spending Score (1-100)')\n",
        "    cluster_data.show(truncate=False)"
      ],
      "metadata": {
        "colab": {
          "base_uri": "https://localhost:8080/"
        },
        "id": "J0mUv4kEi9yE",
        "outputId": "9403bb01-9ec8-4519-e26b-96b68c62a485"
      },
      "execution_count": 26,
      "outputs": [
        {
          "output_type": "stream",
          "name": "stdout",
          "text": [
            "\n",
            "Cluster 0 details:\n",
            "+----------+------+---+------------------+----------------------+\n",
            "|CustomerID|Gender|Age|Annual Income (k$)|Spending Score (1-100)|\n",
            "+----------+------+---+------------------+----------------------+\n",
            "|2         |Male  |21 |15                |81                    |\n",
            "|4         |Female|23 |16                |77                    |\n",
            "|6         |Female|22 |17                |76                    |\n",
            "|8         |Female|23 |18                |94                    |\n",
            "|10        |Female|30 |19                |72                    |\n",
            "|12        |Female|35 |19                |99                    |\n",
            "|14        |Female|24 |20                |77                    |\n",
            "|16        |Male  |22 |20                |79                    |\n",
            "|18        |Male  |20 |21                |66                    |\n",
            "|20        |Female|35 |23                |98                    |\n",
            "|22        |Male  |25 |24                |73                    |\n",
            "|24        |Male  |31 |25                |73                    |\n",
            "|26        |Male  |29 |28                |82                    |\n",
            "|28        |Male  |35 |28                |61                    |\n",
            "|30        |Female|23 |29                |87                    |\n",
            "|32        |Female|21 |30                |73                    |\n",
            "|34        |Male  |18 |33                |92                    |\n",
            "|36        |Female|21 |33                |81                    |\n",
            "|38        |Female|30 |34                |73                    |\n",
            "|40        |Female|20 |37                |75                    |\n",
            "+----------+------+---+------------------+----------------------+\n",
            "only showing top 20 rows\n",
            "\n",
            "\n",
            "Cluster 1 details:\n",
            "+----------+------+---+------------------+----------------------+\n",
            "|CustomerID|Gender|Age|Annual Income (k$)|Spending Score (1-100)|\n",
            "+----------+------+---+------------------+----------------------+\n",
            "|1         |Male  |19 |15                |39                    |\n",
            "|3         |Female|20 |16                |6                     |\n",
            "|5         |Female|31 |17                |40                    |\n",
            "|7         |Female|35 |18                |6                     |\n",
            "|9         |Male  |64 |19                |3                     |\n",
            "|11        |Male  |67 |19                |14                    |\n",
            "|13        |Female|58 |20                |15                    |\n",
            "|15        |Male  |37 |20                |13                    |\n",
            "|17        |Female|35 |21                |35                    |\n",
            "|19        |Male  |52 |23                |29                    |\n",
            "|21        |Male  |35 |24                |35                    |\n",
            "|23        |Female|46 |25                |5                     |\n",
            "|25        |Female|54 |28                |14                    |\n",
            "|27        |Female|45 |28                |32                    |\n",
            "|29        |Female|40 |29                |31                    |\n",
            "|31        |Male  |60 |30                |4                     |\n",
            "|33        |Male  |53 |33                |4                     |\n",
            "|35        |Female|49 |33                |14                    |\n",
            "|37        |Female|42 |34                |17                    |\n",
            "|39        |Female|36 |37                |26                    |\n",
            "+----------+------+---+------------------+----------------------+\n",
            "only showing top 20 rows\n",
            "\n",
            "\n",
            "Cluster 2 details:\n",
            "+----------+------+---+------------------+----------------------+\n",
            "|CustomerID|Gender|Age|Annual Income (k$)|Spending Score (1-100)|\n",
            "+----------+------+---+------------------+----------------------+\n",
            "|125       |Female|23 |70                |29                    |\n",
            "|129       |Male  |59 |71                |11                    |\n",
            "|131       |Male  |47 |71                |9                     |\n",
            "|133       |Female|25 |72                |34                    |\n",
            "|135       |Male  |20 |73                |5                     |\n",
            "|137       |Female|44 |73                |7                     |\n",
            "|139       |Male  |19 |74                |10                    |\n",
            "|141       |Female|57 |75                |5                     |\n",
            "|143       |Female|28 |76                |40                    |\n",
            "|145       |Male  |25 |77                |12                    |\n",
            "|147       |Male  |48 |77                |36                    |\n",
            "|149       |Female|34 |78                |22                    |\n",
            "|151       |Male  |43 |78                |17                    |\n",
            "|153       |Female|44 |78                |20                    |\n",
            "|155       |Female|47 |78                |16                    |\n",
            "|157       |Male  |37 |78                |1                     |\n",
            "|159       |Male  |34 |78                |1                     |\n",
            "|161       |Female|56 |79                |35                    |\n",
            "|163       |Male  |19 |81                |5                     |\n",
            "|165       |Male  |50 |85                |26                    |\n",
            "+----------+------+---+------------------+----------------------+\n",
            "only showing top 20 rows\n",
            "\n",
            "\n",
            "Cluster 3 details:\n",
            "+----------+------+---+------------------+----------------------+\n",
            "|CustomerID|Gender|Age|Annual Income (k$)|Spending Score (1-100)|\n",
            "+----------+------+---+------------------+----------------------+\n",
            "|124       |Male  |39 |69                |91                    |\n",
            "|126       |Female|31 |70                |77                    |\n",
            "|128       |Male  |40 |71                |95                    |\n",
            "|130       |Male  |38 |71                |75                    |\n",
            "|132       |Male  |39 |71                |75                    |\n",
            "|134       |Female|31 |72                |71                    |\n",
            "|136       |Female|29 |73                |88                    |\n",
            "|138       |Male  |32 |73                |73                    |\n",
            "|140       |Female|35 |74                |72                    |\n",
            "|142       |Male  |32 |75                |93                    |\n",
            "|144       |Female|32 |76                |87                    |\n",
            "|146       |Male  |28 |77                |97                    |\n",
            "|148       |Female|32 |77                |74                    |\n",
            "|150       |Male  |34 |78                |90                    |\n",
            "|152       |Male  |39 |78                |88                    |\n",
            "|154       |Female|38 |78                |76                    |\n",
            "|156       |Female|27 |78                |89                    |\n",
            "|158       |Female|30 |78                |78                    |\n",
            "|160       |Female|30 |78                |73                    |\n",
            "|162       |Female|29 |79                |83                    |\n",
            "+----------+------+---+------------------+----------------------+\n",
            "only showing top 20 rows\n",
            "\n",
            "\n",
            "Cluster 4 details:\n",
            "+----------+------+---+------------------+----------------------+\n",
            "|CustomerID|Gender|Age|Annual Income (k$)|Spending Score (1-100)|\n",
            "+----------+------+---+------------------+----------------------+\n",
            "|47        |Female|50 |40                |55                    |\n",
            "|48        |Female|27 |40                |47                    |\n",
            "|49        |Female|29 |40                |42                    |\n",
            "|50        |Female|31 |40                |42                    |\n",
            "|51        |Female|49 |42                |52                    |\n",
            "|52        |Male  |33 |42                |60                    |\n",
            "|53        |Female|31 |43                |54                    |\n",
            "|54        |Male  |59 |43                |60                    |\n",
            "|55        |Female|50 |43                |45                    |\n",
            "|56        |Male  |47 |43                |41                    |\n",
            "|57        |Female|51 |44                |50                    |\n",
            "|58        |Male  |69 |44                |46                    |\n",
            "|59        |Female|27 |46                |51                    |\n",
            "|60        |Male  |53 |46                |46                    |\n",
            "|61        |Male  |70 |46                |56                    |\n",
            "|62        |Male  |19 |46                |55                    |\n",
            "|63        |Female|67 |47                |52                    |\n",
            "|64        |Female|54 |47                |59                    |\n",
            "|65        |Male  |63 |48                |51                    |\n",
            "|67        |Female|43 |48                |50                    |\n",
            "+----------+------+---+------------------+----------------------+\n",
            "only showing top 20 rows\n",
            "\n"
          ]
        }
      ]
    },
    {
      "cell_type": "code",
      "source": [],
      "metadata": {
        "id": "fgL35w6ajCmF"
      },
      "execution_count": null,
      "outputs": []
    }
  ]
}